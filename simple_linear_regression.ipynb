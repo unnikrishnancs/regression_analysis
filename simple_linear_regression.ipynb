{
 "cells": [
  {
   "cell_type": "markdown",
   "id": "601e23fd",
   "metadata": {},
   "source": [
    "# import necessary packages"
   ]
  },
  {
   "cell_type": "code",
   "execution_count": 1,
   "id": "347d80ae",
   "metadata": {},
   "outputs": [],
   "source": [
    "import pandas as pd\n",
    "from sklearn.model_selection import train_test_split\n",
    "from sklearn.linear_model import LinearRegression\n",
    "from sklearn.metrics import mean_squared_error, mean_absolute_error\n",
    "import numpy as np\n",
    "import matplotlib.pyplot as plt\n",
    "from scipy.stats import pearsonr,spearmanr\n",
    "from sklearn.metrics import r2_score\n",
    "import statsmodels.api as sm"
   ]
  },
  {
   "cell_type": "markdown",
   "id": "f3028cea",
   "metadata": {},
   "source": [
    "# import dataset"
   ]
  },
  {
   "cell_type": "code",
   "execution_count": 3,
   "id": "6ea9832f",
   "metadata": {},
   "outputs": [],
   "source": [
    "data=pd.read_excel(\"/home/unni/Documents/ml/dataset/auto-mpg.xlsx\",na_values=[\"?\"])"
   ]
  },
  {
   "cell_type": "code",
   "execution_count": 5,
   "id": "013e23ca",
   "metadata": {
    "scrolled": true
   },
   "outputs": [
    {
     "data": {
      "text/html": [
       "<div>\n",
       "<style scoped>\n",
       "    .dataframe tbody tr th:only-of-type {\n",
       "        vertical-align: middle;\n",
       "    }\n",
       "\n",
       "    .dataframe tbody tr th {\n",
       "        vertical-align: top;\n",
       "    }\n",
       "\n",
       "    .dataframe thead th {\n",
       "        text-align: right;\n",
       "    }\n",
       "</style>\n",
       "<table border=\"1\" class=\"dataframe\">\n",
       "  <thead>\n",
       "    <tr style=\"text-align: right;\">\n",
       "      <th></th>\n",
       "      <th>mpg</th>\n",
       "      <th>cylinders</th>\n",
       "      <th>displacement</th>\n",
       "      <th>horsepower</th>\n",
       "      <th>weight</th>\n",
       "      <th>acceleration</th>\n",
       "      <th>model year</th>\n",
       "      <th>origin</th>\n",
       "      <th>car name</th>\n",
       "    </tr>\n",
       "  </thead>\n",
       "  <tbody>\n",
       "    <tr>\n",
       "      <th>0</th>\n",
       "      <td>18.0</td>\n",
       "      <td>8</td>\n",
       "      <td>307.0</td>\n",
       "      <td>130.0</td>\n",
       "      <td>3504</td>\n",
       "      <td>12.0</td>\n",
       "      <td>70</td>\n",
       "      <td>1</td>\n",
       "      <td>chevrolet chevelle malibu</td>\n",
       "    </tr>\n",
       "    <tr>\n",
       "      <th>1</th>\n",
       "      <td>15.0</td>\n",
       "      <td>8</td>\n",
       "      <td>350.0</td>\n",
       "      <td>165.0</td>\n",
       "      <td>3693</td>\n",
       "      <td>11.5</td>\n",
       "      <td>70</td>\n",
       "      <td>1</td>\n",
       "      <td>buick skylark 320</td>\n",
       "    </tr>\n",
       "    <tr>\n",
       "      <th>2</th>\n",
       "      <td>18.0</td>\n",
       "      <td>8</td>\n",
       "      <td>318.0</td>\n",
       "      <td>150.0</td>\n",
       "      <td>3436</td>\n",
       "      <td>11.0</td>\n",
       "      <td>70</td>\n",
       "      <td>1</td>\n",
       "      <td>plymouth satellite</td>\n",
       "    </tr>\n",
       "    <tr>\n",
       "      <th>3</th>\n",
       "      <td>16.0</td>\n",
       "      <td>8</td>\n",
       "      <td>304.0</td>\n",
       "      <td>150.0</td>\n",
       "      <td>3433</td>\n",
       "      <td>12.0</td>\n",
       "      <td>70</td>\n",
       "      <td>1</td>\n",
       "      <td>amc rebel sst</td>\n",
       "    </tr>\n",
       "    <tr>\n",
       "      <th>4</th>\n",
       "      <td>17.0</td>\n",
       "      <td>8</td>\n",
       "      <td>302.0</td>\n",
       "      <td>140.0</td>\n",
       "      <td>3449</td>\n",
       "      <td>10.5</td>\n",
       "      <td>70</td>\n",
       "      <td>1</td>\n",
       "      <td>ford torino</td>\n",
       "    </tr>\n",
       "  </tbody>\n",
       "</table>\n",
       "</div>"
      ],
      "text/plain": [
       "    mpg  cylinders  displacement  horsepower  weight  acceleration  \\\n",
       "0  18.0          8         307.0       130.0    3504          12.0   \n",
       "1  15.0          8         350.0       165.0    3693          11.5   \n",
       "2  18.0          8         318.0       150.0    3436          11.0   \n",
       "3  16.0          8         304.0       150.0    3433          12.0   \n",
       "4  17.0          8         302.0       140.0    3449          10.5   \n",
       "\n",
       "   model year  origin                   car name  \n",
       "0          70       1  chevrolet chevelle malibu  \n",
       "1          70       1          buick skylark 320  \n",
       "2          70       1         plymouth satellite  \n",
       "3          70       1              amc rebel sst  \n",
       "4          70       1                ford torino  "
      ]
     },
     "execution_count": 5,
     "metadata": {},
     "output_type": "execute_result"
    }
   ],
   "source": [
    "# top 5 rows\n",
    "data.head()"
   ]
  },
  {
   "cell_type": "markdown",
   "id": "d969f787",
   "metadata": {},
   "source": [
    "# exploratory data analysis"
   ]
  },
  {
   "cell_type": "code",
   "execution_count": 6,
   "id": "cea964dd",
   "metadata": {
    "scrolled": true
   },
   "outputs": [
    {
     "name": "stdout",
     "output_type": "stream",
     "text": [
      "<class 'pandas.core.frame.DataFrame'>\n",
      "RangeIndex: 398 entries, 0 to 397\n",
      "Data columns (total 9 columns):\n",
      " #   Column        Non-Null Count  Dtype  \n",
      "---  ------        --------------  -----  \n",
      " 0   mpg           398 non-null    float64\n",
      " 1   cylinders     398 non-null    int64  \n",
      " 2   displacement  398 non-null    float64\n",
      " 3   horsepower    392 non-null    float64\n",
      " 4   weight        398 non-null    int64  \n",
      " 5   acceleration  398 non-null    float64\n",
      " 6   model year    398 non-null    int64  \n",
      " 7   origin        398 non-null    int64  \n",
      " 8   car name      398 non-null    object \n",
      "dtypes: float64(4), int64(4), object(1)\n",
      "memory usage: 28.1+ KB\n"
     ]
    }
   ],
   "source": [
    "# column data types, non-null count etc\n",
    "data.info()"
   ]
  },
  {
   "cell_type": "code",
   "execution_count": 8,
   "id": "cdda8a78",
   "metadata": {
    "scrolled": false
   },
   "outputs": [
    {
     "data": {
      "text/html": [
       "<div>\n",
       "<style scoped>\n",
       "    .dataframe tbody tr th:only-of-type {\n",
       "        vertical-align: middle;\n",
       "    }\n",
       "\n",
       "    .dataframe tbody tr th {\n",
       "        vertical-align: top;\n",
       "    }\n",
       "\n",
       "    .dataframe thead th {\n",
       "        text-align: right;\n",
       "    }\n",
       "</style>\n",
       "<table border=\"1\" class=\"dataframe\">\n",
       "  <thead>\n",
       "    <tr style=\"text-align: right;\">\n",
       "      <th></th>\n",
       "      <th>mpg</th>\n",
       "      <th>cylinders</th>\n",
       "      <th>displacement</th>\n",
       "      <th>horsepower</th>\n",
       "      <th>weight</th>\n",
       "      <th>acceleration</th>\n",
       "      <th>model year</th>\n",
       "      <th>origin</th>\n",
       "    </tr>\n",
       "  </thead>\n",
       "  <tbody>\n",
       "    <tr>\n",
       "      <th>count</th>\n",
       "      <td>398.000000</td>\n",
       "      <td>398.000000</td>\n",
       "      <td>398.000000</td>\n",
       "      <td>392.000000</td>\n",
       "      <td>398.000000</td>\n",
       "      <td>398.000000</td>\n",
       "      <td>398.000000</td>\n",
       "      <td>398.000000</td>\n",
       "    </tr>\n",
       "    <tr>\n",
       "      <th>mean</th>\n",
       "      <td>23.514573</td>\n",
       "      <td>5.454774</td>\n",
       "      <td>193.425879</td>\n",
       "      <td>104.469388</td>\n",
       "      <td>2970.424623</td>\n",
       "      <td>15.568090</td>\n",
       "      <td>76.010050</td>\n",
       "      <td>1.572864</td>\n",
       "    </tr>\n",
       "    <tr>\n",
       "      <th>std</th>\n",
       "      <td>7.815984</td>\n",
       "      <td>1.701004</td>\n",
       "      <td>104.269838</td>\n",
       "      <td>38.491160</td>\n",
       "      <td>846.841774</td>\n",
       "      <td>2.757689</td>\n",
       "      <td>3.697627</td>\n",
       "      <td>0.802055</td>\n",
       "    </tr>\n",
       "    <tr>\n",
       "      <th>min</th>\n",
       "      <td>9.000000</td>\n",
       "      <td>3.000000</td>\n",
       "      <td>68.000000</td>\n",
       "      <td>46.000000</td>\n",
       "      <td>1613.000000</td>\n",
       "      <td>8.000000</td>\n",
       "      <td>70.000000</td>\n",
       "      <td>1.000000</td>\n",
       "    </tr>\n",
       "    <tr>\n",
       "      <th>25%</th>\n",
       "      <td>17.500000</td>\n",
       "      <td>4.000000</td>\n",
       "      <td>104.250000</td>\n",
       "      <td>75.000000</td>\n",
       "      <td>2223.750000</td>\n",
       "      <td>13.825000</td>\n",
       "      <td>73.000000</td>\n",
       "      <td>1.000000</td>\n",
       "    </tr>\n",
       "    <tr>\n",
       "      <th>50%</th>\n",
       "      <td>23.000000</td>\n",
       "      <td>4.000000</td>\n",
       "      <td>148.500000</td>\n",
       "      <td>93.500000</td>\n",
       "      <td>2803.500000</td>\n",
       "      <td>15.500000</td>\n",
       "      <td>76.000000</td>\n",
       "      <td>1.000000</td>\n",
       "    </tr>\n",
       "    <tr>\n",
       "      <th>75%</th>\n",
       "      <td>29.000000</td>\n",
       "      <td>8.000000</td>\n",
       "      <td>262.000000</td>\n",
       "      <td>126.000000</td>\n",
       "      <td>3608.000000</td>\n",
       "      <td>17.175000</td>\n",
       "      <td>79.000000</td>\n",
       "      <td>2.000000</td>\n",
       "    </tr>\n",
       "    <tr>\n",
       "      <th>max</th>\n",
       "      <td>46.600000</td>\n",
       "      <td>8.000000</td>\n",
       "      <td>455.000000</td>\n",
       "      <td>230.000000</td>\n",
       "      <td>5140.000000</td>\n",
       "      <td>24.800000</td>\n",
       "      <td>82.000000</td>\n",
       "      <td>3.000000</td>\n",
       "    </tr>\n",
       "  </tbody>\n",
       "</table>\n",
       "</div>"
      ],
      "text/plain": [
       "              mpg   cylinders  displacement  horsepower       weight  \\\n",
       "count  398.000000  398.000000    398.000000  392.000000   398.000000   \n",
       "mean    23.514573    5.454774    193.425879  104.469388  2970.424623   \n",
       "std      7.815984    1.701004    104.269838   38.491160   846.841774   \n",
       "min      9.000000    3.000000     68.000000   46.000000  1613.000000   \n",
       "25%     17.500000    4.000000    104.250000   75.000000  2223.750000   \n",
       "50%     23.000000    4.000000    148.500000   93.500000  2803.500000   \n",
       "75%     29.000000    8.000000    262.000000  126.000000  3608.000000   \n",
       "max     46.600000    8.000000    455.000000  230.000000  5140.000000   \n",
       "\n",
       "       acceleration  model year      origin  \n",
       "count    398.000000  398.000000  398.000000  \n",
       "mean      15.568090   76.010050    1.572864  \n",
       "std        2.757689    3.697627    0.802055  \n",
       "min        8.000000   70.000000    1.000000  \n",
       "25%       13.825000   73.000000    1.000000  \n",
       "50%       15.500000   76.000000    1.000000  \n",
       "75%       17.175000   79.000000    2.000000  \n",
       "max       24.800000   82.000000    3.000000  "
      ]
     },
     "execution_count": 8,
     "metadata": {},
     "output_type": "execute_result"
    }
   ],
   "source": [
    "# 5 number summary\n",
    "data.describe()"
   ]
  },
  {
   "cell_type": "code",
   "execution_count": 9,
   "id": "9094685b",
   "metadata": {},
   "outputs": [
    {
     "data": {
      "text/html": [
       "<div>\n",
       "<style scoped>\n",
       "    .dataframe tbody tr th:only-of-type {\n",
       "        vertical-align: middle;\n",
       "    }\n",
       "\n",
       "    .dataframe tbody tr th {\n",
       "        vertical-align: top;\n",
       "    }\n",
       "\n",
       "    .dataframe thead th {\n",
       "        text-align: right;\n",
       "    }\n",
       "</style>\n",
       "<table border=\"1\" class=\"dataframe\">\n",
       "  <thead>\n",
       "    <tr style=\"text-align: right;\">\n",
       "      <th></th>\n",
       "      <th>car name</th>\n",
       "    </tr>\n",
       "  </thead>\n",
       "  <tbody>\n",
       "    <tr>\n",
       "      <th>count</th>\n",
       "      <td>398</td>\n",
       "    </tr>\n",
       "    <tr>\n",
       "      <th>unique</th>\n",
       "      <td>305</td>\n",
       "    </tr>\n",
       "    <tr>\n",
       "      <th>top</th>\n",
       "      <td>ford pinto</td>\n",
       "    </tr>\n",
       "    <tr>\n",
       "      <th>freq</th>\n",
       "      <td>6</td>\n",
       "    </tr>\n",
       "  </tbody>\n",
       "</table>\n",
       "</div>"
      ],
      "text/plain": [
       "          car name\n",
       "count          398\n",
       "unique         305\n",
       "top     ford pinto\n",
       "freq             6"
      ]
     },
     "execution_count": 9,
     "metadata": {},
     "output_type": "execute_result"
    }
   ],
   "source": [
    "# summary for object datatypes\n",
    "data.describe(include=\"O\")"
   ]
  },
  {
   "cell_type": "code",
   "execution_count": 10,
   "id": "3b23c85a",
   "metadata": {
    "scrolled": true
   },
   "outputs": [
    {
     "data": {
      "text/html": [
       "<div>\n",
       "<style scoped>\n",
       "    .dataframe tbody tr th:only-of-type {\n",
       "        vertical-align: middle;\n",
       "    }\n",
       "\n",
       "    .dataframe tbody tr th {\n",
       "        vertical-align: top;\n",
       "    }\n",
       "\n",
       "    .dataframe thead th {\n",
       "        text-align: right;\n",
       "    }\n",
       "</style>\n",
       "<table border=\"1\" class=\"dataframe\">\n",
       "  <thead>\n",
       "    <tr style=\"text-align: right;\">\n",
       "      <th></th>\n",
       "      <th>mpg</th>\n",
       "      <th>cylinders</th>\n",
       "      <th>displacement</th>\n",
       "      <th>horsepower</th>\n",
       "      <th>weight</th>\n",
       "      <th>acceleration</th>\n",
       "      <th>model year</th>\n",
       "      <th>origin</th>\n",
       "    </tr>\n",
       "  </thead>\n",
       "  <tbody>\n",
       "    <tr>\n",
       "      <th>mpg</th>\n",
       "      <td>1.000000</td>\n",
       "      <td>-0.775396</td>\n",
       "      <td>-0.804203</td>\n",
       "      <td>-0.778427</td>\n",
       "      <td>-0.831741</td>\n",
       "      <td>0.420289</td>\n",
       "      <td>0.579267</td>\n",
       "      <td>0.563450</td>\n",
       "    </tr>\n",
       "    <tr>\n",
       "      <th>cylinders</th>\n",
       "      <td>-0.775396</td>\n",
       "      <td>1.000000</td>\n",
       "      <td>0.950721</td>\n",
       "      <td>0.842983</td>\n",
       "      <td>0.896017</td>\n",
       "      <td>-0.505419</td>\n",
       "      <td>-0.348746</td>\n",
       "      <td>-0.562543</td>\n",
       "    </tr>\n",
       "    <tr>\n",
       "      <th>displacement</th>\n",
       "      <td>-0.804203</td>\n",
       "      <td>0.950721</td>\n",
       "      <td>1.000000</td>\n",
       "      <td>0.897257</td>\n",
       "      <td>0.932824</td>\n",
       "      <td>-0.543684</td>\n",
       "      <td>-0.370164</td>\n",
       "      <td>-0.609409</td>\n",
       "    </tr>\n",
       "    <tr>\n",
       "      <th>horsepower</th>\n",
       "      <td>-0.778427</td>\n",
       "      <td>0.842983</td>\n",
       "      <td>0.897257</td>\n",
       "      <td>1.000000</td>\n",
       "      <td>0.864538</td>\n",
       "      <td>-0.689196</td>\n",
       "      <td>-0.416361</td>\n",
       "      <td>-0.455171</td>\n",
       "    </tr>\n",
       "    <tr>\n",
       "      <th>weight</th>\n",
       "      <td>-0.831741</td>\n",
       "      <td>0.896017</td>\n",
       "      <td>0.932824</td>\n",
       "      <td>0.864538</td>\n",
       "      <td>1.000000</td>\n",
       "      <td>-0.417457</td>\n",
       "      <td>-0.306564</td>\n",
       "      <td>-0.581024</td>\n",
       "    </tr>\n",
       "    <tr>\n",
       "      <th>acceleration</th>\n",
       "      <td>0.420289</td>\n",
       "      <td>-0.505419</td>\n",
       "      <td>-0.543684</td>\n",
       "      <td>-0.689196</td>\n",
       "      <td>-0.417457</td>\n",
       "      <td>1.000000</td>\n",
       "      <td>0.288137</td>\n",
       "      <td>0.205873</td>\n",
       "    </tr>\n",
       "    <tr>\n",
       "      <th>model year</th>\n",
       "      <td>0.579267</td>\n",
       "      <td>-0.348746</td>\n",
       "      <td>-0.370164</td>\n",
       "      <td>-0.416361</td>\n",
       "      <td>-0.306564</td>\n",
       "      <td>0.288137</td>\n",
       "      <td>1.000000</td>\n",
       "      <td>0.180662</td>\n",
       "    </tr>\n",
       "    <tr>\n",
       "      <th>origin</th>\n",
       "      <td>0.563450</td>\n",
       "      <td>-0.562543</td>\n",
       "      <td>-0.609409</td>\n",
       "      <td>-0.455171</td>\n",
       "      <td>-0.581024</td>\n",
       "      <td>0.205873</td>\n",
       "      <td>0.180662</td>\n",
       "      <td>1.000000</td>\n",
       "    </tr>\n",
       "  </tbody>\n",
       "</table>\n",
       "</div>"
      ],
      "text/plain": [
       "                   mpg  cylinders  displacement  horsepower    weight  \\\n",
       "mpg           1.000000  -0.775396     -0.804203   -0.778427 -0.831741   \n",
       "cylinders    -0.775396   1.000000      0.950721    0.842983  0.896017   \n",
       "displacement -0.804203   0.950721      1.000000    0.897257  0.932824   \n",
       "horsepower   -0.778427   0.842983      0.897257    1.000000  0.864538   \n",
       "weight       -0.831741   0.896017      0.932824    0.864538  1.000000   \n",
       "acceleration  0.420289  -0.505419     -0.543684   -0.689196 -0.417457   \n",
       "model year    0.579267  -0.348746     -0.370164   -0.416361 -0.306564   \n",
       "origin        0.563450  -0.562543     -0.609409   -0.455171 -0.581024   \n",
       "\n",
       "              acceleration  model year    origin  \n",
       "mpg               0.420289    0.579267  0.563450  \n",
       "cylinders        -0.505419   -0.348746 -0.562543  \n",
       "displacement     -0.543684   -0.370164 -0.609409  \n",
       "horsepower       -0.689196   -0.416361 -0.455171  \n",
       "weight           -0.417457   -0.306564 -0.581024  \n",
       "acceleration      1.000000    0.288137  0.205873  \n",
       "model year        0.288137    1.000000  0.180662  \n",
       "origin            0.205873    0.180662  1.000000  "
      ]
     },
     "execution_count": 10,
     "metadata": {},
     "output_type": "execute_result"
    }
   ],
   "source": [
    "# relationship between input features\n",
    "correlation=data.corr(numeric_only=True)\n",
    "correlation"
   ]
  },
  {
   "cell_type": "markdown",
   "id": "ea4e706d",
   "metadata": {},
   "source": [
    "## Data Cleaning"
   ]
  },
  {
   "cell_type": "code",
   "execution_count": 11,
   "id": "4eaf6a9e",
   "metadata": {
    "scrolled": true
   },
   "outputs": [
    {
     "name": "stdout",
     "output_type": "stream",
     "text": [
      "<class 'pandas.core.frame.DataFrame'>\n",
      "Index: 392 entries, 0 to 397\n",
      "Data columns (total 9 columns):\n",
      " #   Column        Non-Null Count  Dtype  \n",
      "---  ------        --------------  -----  \n",
      " 0   mpg           392 non-null    float64\n",
      " 1   cylinders     392 non-null    int64  \n",
      " 2   displacement  392 non-null    float64\n",
      " 3   horsepower    392 non-null    float64\n",
      " 4   weight        392 non-null    int64  \n",
      " 5   acceleration  392 non-null    float64\n",
      " 6   model year    392 non-null    int64  \n",
      " 7   origin        392 non-null    int64  \n",
      " 8   car name      392 non-null    object \n",
      "dtypes: float64(4), int64(4), object(1)\n",
      "memory usage: 30.6+ KB\n"
     ]
    }
   ],
   "source": [
    "# Handle Nulls..if there are less number of null values , remove those...else use other methods like data imputation \n",
    "# here , remove rows having null value\n",
    "data.dropna(axis='index',inplace=True)\n",
    "data.info()"
   ]
  },
  {
   "cell_type": "markdown",
   "id": "7c75f59f",
   "metadata": {},
   "source": [
    "## Define Independent (x) and Dependent variable (y)"
   ]
  },
  {
   "cell_type": "code",
   "execution_count": 13,
   "id": "e3e4b3fb",
   "metadata": {
    "scrolled": false
   },
   "outputs": [
    {
     "name": "stdout",
     "output_type": "stream",
     "text": [
      "----- mpg -----\n",
      " 0    18.0\n",
      "1    15.0\n",
      "2    18.0\n",
      "3    16.0\n",
      "4    17.0\n",
      "5    15.0\n",
      "Name: mpg, dtype: float64\n",
      "(392,)\n",
      "\n",
      "----- horsepower -----\n",
      " 0    130.0\n",
      "1    165.0\n",
      "2    150.0\n",
      "3    150.0\n",
      "4    140.0\n",
      "5    198.0\n",
      "Name: horsepower, dtype: float64\n",
      "(392,)\n"
     ]
    }
   ],
   "source": [
    "# independent variable..take only one feature initially\n",
    "x=data.iloc[:,0]\n",
    "print(\"-----\",data.columns[0],\"-----\\n\",x[:6])\n",
    "print(x.shape)\n",
    "\n",
    "# dependent variable / target variable\n",
    "y=data.iloc[:,3]\n",
    "print(\"\\n-----\",data.columns[3],\"-----\\n\",y[:6])\n",
    "print(y.shape)"
   ]
  },
  {
   "cell_type": "markdown",
   "id": "f4300b31",
   "metadata": {},
   "source": [
    "# Correlation Coefficients\n",
    "(Pearson, Kendall etc)"
   ]
  },
  {
   "cell_type": "markdown",
   "id": "2d519f62",
   "metadata": {},
   "source": [
    "- correlation coeff's lies between -1 (negative correlation) and 1 (strong/positive correlation). We can ignore the features whose correlation coeff = 0 (no correlation)\n",
    "- we can plot the graph and confirm"
   ]
  },
  {
   "cell_type": "code",
   "execution_count": 14,
   "id": "7be3b452",
   "metadata": {},
   "outputs": [
    {
     "name": "stdout",
     "output_type": "stream",
     "text": [
      "pearson correlation coeff = -0.7784267838977761\n"
     ]
    }
   ],
   "source": [
    "# pearson correlation coeff\n",
    "coeff_p,unk=pearsonr(x,y)\n",
    "print(\"pearson correlation coeff =\",coeff_p)"
   ]
  },
  {
   "cell_type": "code",
   "execution_count": 15,
   "id": "6cad1855",
   "metadata": {},
   "outputs": [
    {
     "name": "stdout",
     "output_type": "stream",
     "text": [
      "spearman's rank correlation coeff = -0.8536164024453882\n"
     ]
    }
   ],
   "source": [
    "# spearman's rank correlation\n",
    "coeff_s,unk=spearmanr(x,y)\n",
    "print(\"spearman's rank correlation coeff =\",coeff_s)"
   ]
  },
  {
   "cell_type": "code",
   "execution_count": 16,
   "id": "ec87e7b3",
   "metadata": {
    "scrolled": false
   },
   "outputs": [
    {
     "data": {
      "image/png": "[encoded data removed]",
      "text/plain": [
       "<Figure size 640x480 with 1 Axes>"
      ]
     },
     "metadata": {},
     "output_type": "display_data"
    }
   ],
   "source": [
    "# plot graph to visualize...what can you infer from graph ??\n",
    "plt.scatter(x,y)\n",
    "plt.xlabel(data.columns[0])\n",
    "plt.ylabel(data.columns[3])\n",
    "plt.show()"
   ]
  },
  {
   "cell_type": "markdown",
   "id": "beaa1149",
   "metadata": {},
   "source": [
    "## what can you infer from above graph ??"
   ]
  },
  {
   "cell_type": "markdown",
   "id": "cfeeac2b",
   "metadata": {},
   "source": [
    "## Reshape to make it training compatible\n",
    "<b>X</b> to be in form <b>(n_samples,n_features)</b> ; <b>Y</b> to be <b>(nsamples,)</b><br> "
   ]
  },
  {
   "cell_type": "code",
   "execution_count": 17,
   "id": "63083b20",
   "metadata": {},
   "outputs": [
    {
     "name": "stdout",
     "output_type": "stream",
     "text": [
      "[18.  15.  18.  16.  17.  15.  14.  14.  14.  15.  15.  14.  15.  14.\n",
      " 24.  22.  18.  21.  27.  26.  25.  24.  25.  26.  21.  10.  10.  11.\n",
      "  9.  27.  28.  25.  19.  16.  17.  19.  18.  14.  14.  14.  14.  12.\n",
      " 13.  13.  18.  22.  19.  18.  23.  28.  30.  30.  31.  35.  27.  26.\n",
      " 24.  25.  23.  20.  21.  13.  14.  15.  14.  17.  11.  13.  12.  13.\n",
      " 19.  15.  13.  13.  14.  18.  22.  21.  26.  22.  28.  23.  28.  27.\n",
      " 13.  14.  13.  14.  15.  12.  13.  13.  14.  13.  12.  13.  18.  16.\n",
      " 18.  18.  23.  26.  11.  12.  13.  12.  18.  20.  21.  22.  18.  19.\n",
      " 21.  26.  15.  16.  29.  24.  20.  19.  15.  24.  20.  11.  20.  19.\n",
      " 15.  31.  26.  32.  25.  16.  16.  18.  16.  13.  14.  14.  14.  29.\n",
      " 26.  26.  31.  32.  28.  24.  26.  24.  26.  31.  19.  18.  15.  15.\n",
      " 16.  15.  16.  14.  17.  16.  15.  18.  21.  20.  13.  29.  23.  20.\n",
      " 23.  24.  25.  24.  18.  29.  19.  23.  23.  22.  25.  33.  28.  25.\n",
      " 25.  26.  27.  17.5 16.  15.5 14.5 22.  22.  24.  22.5 29.  24.5 29.\n",
      " 33.  20.  18.  18.5 17.5 29.5 32.  28.  26.5 20.  13.  19.  19.  16.5\n",
      " 16.5 13.  13.  13.  31.5 30.  36.  25.5 33.5 17.5 17.  15.5 15.  17.5\n",
      " 20.5 19.  18.5 16.  15.5 15.5 16.  29.  24.5 26.  25.5 30.5 33.5 30.\n",
      " 30.5 22.  21.5 21.5 43.1 36.1 32.8 39.4 36.1 19.9 19.4 20.2 19.2 20.5\n",
      " 20.2 25.1 20.5 19.4 20.6 20.8 18.6 18.1 19.2 17.7 18.1 17.5 30.  27.5\n",
      " 27.2 30.9 21.1 23.2 23.8 23.9 20.3 17.  21.6 16.2 31.5 29.5 21.5 19.8\n",
      " 22.3 20.2 20.6 17.  17.6 16.5 18.2 16.9 15.5 19.2 18.5 31.9 34.1 35.7\n",
      " 27.4 25.4 23.  27.2 23.9 34.2 34.5 31.8 37.3 28.4 28.8 26.8 33.5 41.5\n",
      " 38.1 32.1 37.2 28.  26.4 24.3 19.1 34.3 29.8 31.3 37.  32.2 46.6 27.9\n",
      " 40.8 44.3 43.4 36.4 30.  44.6 33.8 29.8 32.7 23.7 35.  32.4 27.2 26.6\n",
      " 25.8 23.5 30.  39.1 39.  35.1 32.3 37.  37.7 34.1 34.7 34.4 29.9 33.\n",
      " 33.7 32.4 32.9 31.6 28.1 30.7 25.4 24.2 22.4 26.6 20.2 17.6 28.  27.\n",
      " 34.  31.  29.  27.  24.  36.  37.  31.  38.  36.  36.  36.  34.  38.\n",
      " 32.  38.  25.  38.  26.  22.  32.  36.  27.  27.  44.  32.  28.  31. ]\n",
      "[[18. ]\n",
      " [15. ]\n",
      " [18. ]\n",
      " [16. ]\n",
      " [17. ]\n",
      " [15. ]\n",
      " [14. ]\n",
      " [14. ]\n",
      " [14. ]\n",
      " [15. ]\n",
      " [15. ]\n",
      " [14. ]\n",
      " [15. ]\n",
      " [14. ]\n",
      " [24. ]\n",
      " [22. ]\n",
      " [18. ]\n",
      " [21. ]\n",
      " [27. ]\n",
      " [26. ]\n",
      " [25. ]\n",
      " [24. ]\n",
      " [25. ]\n",
      " [26. ]\n",
      " [21. ]\n",
      " [10. ]\n",
      " [10. ]\n",
      " [11. ]\n",
      " [ 9. ]\n",
      " [27. ]\n",
      " [28. ]\n",
      " [25. ]\n",
      " [19. ]\n",
      " [16. ]\n",
      " [17. ]\n",
      " [19. ]\n",
      " [18. ]\n",
      " [14. ]\n",
      " [14. ]\n",
      " [14. ]\n",
      " [14. ]\n",
      " [12. ]\n",
      " [13. ]\n",
      " [13. ]\n",
      " [18. ]\n",
      " [22. ]\n",
      " [19. ]\n",
      " [18. ]\n",
      " [23. ]\n",
      " [28. ]\n",
      " [30. ]\n",
      " [30. ]\n",
      " [31. ]\n",
      " [35. ]\n",
      " [27. ]\n",
      " [26. ]\n",
      " [24. ]\n",
      " [25. ]\n",
      " [23. ]\n",
      " [20. ]\n",
      " [21. ]\n",
      " [13. ]\n",
      " [14. ]\n",
      " [15. ]\n",
      " [14. ]\n",
      " [17. ]\n",
      " [11. ]\n",
      " [13. ]\n",
      " [12. ]\n",
      " [13. ]\n",
      " [19. ]\n",
      " [15. ]\n",
      " [13. ]\n",
      " [13. ]\n",
      " [14. ]\n",
      " [18. ]\n",
      " [22. ]\n",
      " [21. ]\n",
      " [26. ]\n",
      " [22. ]\n",
      " [28. ]\n",
      " [23. ]\n",
      " [28. ]\n",
      " [27. ]\n",
      " [13. ]\n",
      " [14. ]\n",
      " [13. ]\n",
      " [14. ]\n",
      " [15. ]\n",
      " [12. ]\n",
      " [13. ]\n",
      " [13. ]\n",
      " [14. ]\n",
      " [13. ]\n",
      " [12. ]\n",
      " [13. ]\n",
      " [18. ]\n",
      " [16. ]\n",
      " [18. ]\n",
      " [18. ]\n",
      " [23. ]\n",
      " [26. ]\n",
      " [11. ]\n",
      " [12. ]\n",
      " [13. ]\n",
      " [12. ]\n",
      " [18. ]\n",
      " [20. ]\n",
      " [21. ]\n",
      " [22. ]\n",
      " [18. ]\n",
      " [19. ]\n",
      " [21. ]\n",
      " [26. ]\n",
      " [15. ]\n",
      " [16. ]\n",
      " [29. ]\n",
      " [24. ]\n",
      " [20. ]\n",
      " [19. ]\n",
      " [15. ]\n",
      " [24. ]\n",
      " [20. ]\n",
      " [11. ]\n",
      " [20. ]\n",
      " [19. ]\n",
      " [15. ]\n",
      " [31. ]\n",
      " [26. ]\n",
      " [32. ]\n",
      " [25. ]\n",
      " [16. ]\n",
      " [16. ]\n",
      " [18. ]\n",
      " [16. ]\n",
      " [13. ]\n",
      " [14. ]\n",
      " [14. ]\n",
      " [14. ]\n",
      " [29. ]\n",
      " [26. ]\n",
      " [26. ]\n",
      " [31. ]\n",
      " [32. ]\n",
      " [28. ]\n",
      " [24. ]\n",
      " [26. ]\n",
      " [24. ]\n",
      " [26. ]\n",
      " [31. ]\n",
      " [19. ]\n",
      " [18. ]\n",
      " [15. ]\n",
      " [15. ]\n",
      " [16. ]\n",
      " [15. ]\n",
      " [16. ]\n",
      " [14. ]\n",
      " [17. ]\n",
      " [16. ]\n",
      " [15. ]\n",
      " [18. ]\n",
      " [21. ]\n",
      " [20. ]\n",
      " [13. ]\n",
      " [29. ]\n",
      " [23. ]\n",
      " [20. ]\n",
      " [23. ]\n",
      " [24. ]\n",
      " [25. ]\n",
      " [24. ]\n",
      " [18. ]\n",
      " [29. ]\n",
      " [19. ]\n",
      " [23. ]\n",
      " [23. ]\n",
      " [22. ]\n",
      " [25. ]\n",
      " [33. ]\n",
      " [28. ]\n",
      " [25. ]\n",
      " [25. ]\n",
      " [26. ]\n",
      " [27. ]\n",
      " [17.5]\n",
      " [16. ]\n",
      " [15.5]\n",
      " [14.5]\n",
      " [22. ]\n",
      " [22. ]\n",
      " [24. ]\n",
      " [22.5]\n",
      " [29. ]\n",
      " [24.5]\n",
      " [29. ]\n",
      " [33. ]\n",
      " [20. ]\n",
      " [18. ]\n",
      " [18.5]\n",
      " [17.5]\n",
      " [29.5]\n",
      " [32. ]\n",
      " [28. ]\n",
      " [26.5]\n",
      " [20. ]\n",
      " [13. ]\n",
      " [19. ]\n",
      " [19. ]\n",
      " [16.5]\n",
      " [16.5]\n",
      " [13. ]\n",
      " [13. ]\n",
      " [13. ]\n",
      " [31.5]\n",
      " [30. ]\n",
      " [36. ]\n",
      " [25.5]\n",
      " [33.5]\n",
      " [17.5]\n",
      " [17. ]\n",
      " [15.5]\n",
      " [15. ]\n",
      " [17.5]\n",
      " [20.5]\n",
      " [19. ]\n",
      " [18.5]\n",
      " [16. ]\n",
      " [15.5]\n",
      " [15.5]\n",
      " [16. ]\n",
      " [29. ]\n",
      " [24.5]\n",
      " [26. ]\n",
      " [25.5]\n",
      " [30.5]\n",
      " [33.5]\n",
      " [30. ]\n",
      " [30.5]\n",
      " [22. ]\n",
      " [21.5]\n",
      " [21.5]\n",
      " [43.1]\n",
      " [36.1]\n",
      " [32.8]\n",
      " [39.4]\n",
      " [36.1]\n",
      " [19.9]\n",
      " [19.4]\n",
      " [20.2]\n",
      " [19.2]\n",
      " [20.5]\n",
      " [20.2]\n",
      " [25.1]\n",
      " [20.5]\n",
      " [19.4]\n",
      " [20.6]\n",
      " [20.8]\n",
      " [18.6]\n",
      " [18.1]\n",
      " [19.2]\n",
      " [17.7]\n",
      " [18.1]\n",
      " [17.5]\n",
      " [30. ]\n",
      " [27.5]\n",
      " [27.2]\n",
      " [30.9]\n",
      " [21.1]\n",
      " [23.2]\n",
      " [23.8]\n",
      " [23.9]\n",
      " [20.3]\n",
      " [17. ]\n",
      " [21.6]\n",
      " [16.2]\n",
      " [31.5]\n",
      " [29.5]\n",
      " [21.5]\n",
      " [19.8]\n",
      " [22.3]\n",
      " [20.2]\n",
      " [20.6]\n",
      " [17. ]\n",
      " [17.6]\n",
      " [16.5]\n",
      " [18.2]\n",
      " [16.9]\n",
      " [15.5]\n",
      " [19.2]\n",
      " [18.5]\n",
      " [31.9]\n",
      " [34.1]\n",
      " [35.7]\n",
      " [27.4]\n",
      " [25.4]\n",
      " [23. ]\n",
      " [27.2]\n",
      " [23.9]\n",
      " [34.2]\n",
      " [34.5]\n",
      " [31.8]\n",
      " [37.3]\n",
      " [28.4]\n",
      " [28.8]\n",
      " [26.8]\n",
      " [33.5]\n",
      " [41.5]\n",
      " [38.1]\n",
      " [32.1]\n",
      " [37.2]\n",
      " [28. ]\n",
      " [26.4]\n",
      " [24.3]\n",
      " [19.1]\n",
      " [34.3]\n",
      " [29.8]\n",
      " [31.3]\n",
      " [37. ]\n",
      " [32.2]\n",
      " [46.6]\n",
      " [27.9]\n",
      " [40.8]\n",
      " [44.3]\n",
      " [43.4]\n",
      " [36.4]\n",
      " [30. ]\n",
      " [44.6]\n",
      " [33.8]\n",
      " [29.8]\n",
      " [32.7]\n",
      " [23.7]\n",
      " [35. ]\n",
      " [32.4]\n",
      " [27.2]\n",
      " [26.6]\n",
      " [25.8]\n",
      " [23.5]\n",
      " [30. ]\n",
      " [39.1]\n",
      " [39. ]\n",
      " [35.1]\n",
      " [32.3]\n",
      " [37. ]\n",
      " [37.7]\n",
      " [34.1]\n",
      " [34.7]\n",
      " [34.4]\n",
      " [29.9]\n",
      " [33. ]\n",
      " [33.7]\n",
      " [32.4]\n",
      " [32.9]\n",
      " [31.6]\n",
      " [28.1]\n",
      " [30.7]\n",
      " [25.4]\n",
      " [24.2]\n",
      " [22.4]\n",
      " [26.6]\n",
      " [20.2]\n",
      " [17.6]\n",
      " [28. ]\n",
      " [27. ]\n",
      " [34. ]\n",
      " [31. ]\n",
      " [29. ]\n",
      " [27. ]\n",
      " [24. ]\n",
      " [36. ]\n",
      " [37. ]\n",
      " [31. ]\n",
      " [38. ]\n",
      " [36. ]\n",
      " [36. ]\n",
      " [36. ]\n",
      " [34. ]\n",
      " [38. ]\n",
      " [32. ]\n",
      " [38. ]\n",
      " [25. ]\n",
      " [38. ]\n",
      " [26. ]\n",
      " [22. ]\n",
      " [32. ]\n",
      " [36. ]\n",
      " [27. ]\n",
      " [27. ]\n",
      " [44. ]\n",
      " [32. ]\n",
      " [28. ]\n",
      " [31. ]]\n"
     ]
    }
   ],
   "source": [
    "# DO THIS ONLY IF YOU HAVE ONE INPUT FEATURE\n",
    "\n",
    "x=np.array(x)\n",
    "print(x)\n",
    "\n",
    "x=x.reshape(-1, 1)\n",
    "print(x)"
   ]
  },
  {
   "cell_type": "code",
   "execution_count": 18,
   "id": "f1cbe52a",
   "metadata": {},
   "outputs": [
    {
     "name": "stdout",
     "output_type": "stream",
     "text": [
      "(392, 1)\n",
      "(392,)\n"
     ]
    }
   ],
   "source": [
    "print(x.shape)\n",
    "print(y.shape)"
   ]
  },
  {
   "cell_type": "markdown",
   "id": "b208b24b",
   "metadata": {},
   "source": [
    "# Divide into Train and Test set\n",
    "#### random_state -> default=None ; Controls the shuffling applied to the data before applying the split. Pass an int for reproducible output across multiple function calls."
   ]
  },
  {
   "cell_type": "code",
   "execution_count": 19,
   "id": "88782525",
   "metadata": {},
   "outputs": [],
   "source": [
    "x_train,x_test,y_train,y_test=train_test_split(x,y,test_size=0.2,random_state=1)"
   ]
  },
  {
   "cell_type": "code",
   "execution_count": 20,
   "id": "88c26078",
   "metadata": {},
   "outputs": [
    {
     "name": "stdout",
     "output_type": "stream",
     "text": [
      "x_train.count()= 313\n",
      "y_train.count()= 313\n",
      "x_test.count()= 79\n",
      "y_test.count()= 79\n"
     ]
    }
   ],
   "source": [
    "print(\"x_train.count()=\",len(x_train)) # x_train.count()\n",
    "print(\"y_train.count()=\",y_train.count())\n",
    "print(\"x_test.count()=\",len(x_test)) # x_test.count()\n",
    "print(\"y_test.count()=\",y_test.count())"
   ]
  },
  {
   "cell_type": "markdown",
   "id": "709df8da",
   "metadata": {},
   "source": [
    "# Train model"
   ]
  },
  {
   "cell_type": "code",
   "execution_count": 21,
   "id": "62640de2",
   "metadata": {},
   "outputs": [],
   "source": [
    "# initilize model\n",
    "# If fit_intercept=False, no intercept will be used in \n",
    "# calculations (i.e. data is expected to be centered/pass through origin).\n",
    "\n",
    "lr=LinearRegression()"
   ]
  },
  {
   "cell_type": "code",
   "execution_count": 22,
   "id": "54fba30c",
   "metadata": {},
   "outputs": [
    {
     "data": {
      "text/html": [
       "<style>#sk-container-id-1 {color: black;}#sk-container-id-1 pre{padding: 0;}#sk-container-id-1 div.sk-toggleable {background-color: white;}#sk-container-id-1 label.sk-toggleable__label {cursor: pointer;display: block;width: 100%;margin-bottom: 0;padding: 0.3em;box-sizing: border-box;text-align: center;}#sk-container-id-1 label.sk-toggleable__label-arrow:before {content: \"▸\";float: left;margin-right: 0.25em;color: #696969;}#sk-container-id-1 label.sk-toggleable__label-arrow:hover:before {color: black;}#sk-container-id-1 div.sk-estimator:hover label.sk-toggleable__label-arrow:before {color: black;}#sk-container-id-1 div.sk-toggleable__content {max-height: 0;max-width: 0;overflow: hidden;text-align: left;background-color: #f0f8ff;}#sk-container-id-1 div.sk-toggleable__content pre {margin: 0.2em;color: black;border-radius: 0.25em;background-color: #f0f8ff;}#sk-container-id-1 input.sk-toggleable__control:checked~div.sk-toggleable__content {max-height: 200px;max-width: 100%;overflow: auto;}#sk-container-id-1 input.sk-toggleable__control:checked~label.sk-toggleable__label-arrow:before {content: \"▾\";}#sk-container-id-1 div.sk-estimator input.sk-toggleable__control:checked~label.sk-toggleable__label {background-color: #d4ebff;}#sk-container-id-1 div.sk-label input.sk-toggleable__control:checked~label.sk-toggleable__label {background-color: #d4ebff;}#sk-container-id-1 input.sk-hidden--visually {border: 0;clip: rect(1px 1px 1px 1px);clip: rect(1px, 1px, 1px, 1px);height: 1px;margin: -1px;overflow: hidden;padding: 0;position: absolute;width: 1px;}#sk-container-id-1 div.sk-estimator {font-family: monospace;background-color: #f0f8ff;border: 1px dotted black;border-radius: 0.25em;box-sizing: border-box;margin-bottom: 0.5em;}#sk-container-id-1 div.sk-estimator:hover {background-color: #d4ebff;}#sk-container-id-1 div.sk-parallel-item::after {content: \"\";width: 100%;border-bottom: 1px solid gray;flex-grow: 1;}#sk-container-id-1 div.sk-label:hover label.sk-toggleable__label {background-color: #d4ebff;}#sk-container-id-1 div.sk-serial::before {content: \"\";position: absolute;border-left: 1px solid gray;box-sizing: border-box;top: 0;bottom: 0;left: 50%;z-index: 0;}#sk-container-id-1 div.sk-serial {display: flex;flex-direction: column;align-items: center;background-color: white;padding-right: 0.2em;padding-left: 0.2em;position: relative;}#sk-container-id-1 div.sk-item {position: relative;z-index: 1;}#sk-container-id-1 div.sk-parallel {display: flex;align-items: stretch;justify-content: center;background-color: white;position: relative;}#sk-container-id-1 div.sk-item::before, #sk-container-id-1 div.sk-parallel-item::before {content: \"\";position: absolute;border-left: 1px solid gray;box-sizing: border-box;top: 0;bottom: 0;left: 50%;z-index: -1;}#sk-container-id-1 div.sk-parallel-item {display: flex;flex-direction: column;z-index: 1;position: relative;background-color: white;}#sk-container-id-1 div.sk-parallel-item:first-child::after {align-self: flex-end;width: 50%;}#sk-container-id-1 div.sk-parallel-item:last-child::after {align-self: flex-start;width: 50%;}#sk-container-id-1 div.sk-parallel-item:only-child::after {width: 0;}#sk-container-id-1 div.sk-dashed-wrapped {border: 1px dashed gray;margin: 0 0.4em 0.5em 0.4em;box-sizing: border-box;padding-bottom: 0.4em;background-color: white;}#sk-container-id-1 div.sk-label label {font-family: monospace;font-weight: bold;display: inline-block;line-height: 1.2em;}#sk-container-id-1 div.sk-label-container {text-align: center;}#sk-container-id-1 div.sk-container {/* jupyter's `normalize.less` sets `[hidden] { display: none; }` but bootstrap.min.css set `[hidden] { display: none !important; }` so we also need the `!important` here to be able to override the default hidden behavior on the sphinx rendered scikit-learn.org. See: https://github.com/scikit-learn/scikit-learn/issues/21755 */display: inline-block !important;position: relative;}#sk-container-id-1 div.sk-text-repr-fallback {display: none;}</style><div id=\"sk-container-id-1\" class=\"sk-top-container\"><div class=\"sk-text-repr-fallback\"><pre>LinearRegression()</pre><b>In a Jupyter environment, please rerun this cell to show the HTML representation or trust the notebook. <br />On GitHub, the HTML representation is unable to render, please try loading this page with nbviewer.org.</b></div><div class=\"sk-container\" hidden><div class=\"sk-item\"><div class=\"sk-estimator sk-toggleable\"><input class=\"sk-toggleable__control sk-hidden--visually\" id=\"sk-estimator-id-1\" type=\"checkbox\" checked><label for=\"sk-estimator-id-1\" class=\"sk-toggleable__label sk-toggleable__label-arrow\">LinearRegression</label><div class=\"sk-toggleable__content\"><pre>LinearRegression()</pre></div></div></div></div></div>"
      ],
      "text/plain": [
       "LinearRegression()"
      ]
     },
     "execution_count": 22,
     "metadata": {},
     "output_type": "execute_result"
    }
   ],
   "source": [
    "# fit model\n",
    "lr.fit(x_train,y_train)"
   ]
  },
  {
   "cell_type": "code",
   "execution_count": 23,
   "id": "f69a7ae7",
   "metadata": {
    "scrolled": false
   },
   "outputs": [
    {
     "name": "stdout",
     "output_type": "stream",
     "text": [
      "Intercept -> 193.33098075939455\n",
      "coefficient -> [-3.86261647]\n"
     ]
    }
   ],
   "source": [
    "# parameters from model\n",
    "\n",
    "# intercept\n",
    "print(\"Intercept ->\",lr.intercept_)\n",
    "\n",
    "# coeff\n",
    "print(\"coefficient ->\",lr.coef_)"
   ]
  },
  {
   "cell_type": "markdown",
   "id": "28ccc434",
   "metadata": {},
   "source": [
    "# Performance on TRAIN set"
   ]
  },
  {
   "cell_type": "code",
   "execution_count": 24,
   "id": "2889f113",
   "metadata": {},
   "outputs": [],
   "source": [
    "# predict model on TRAIN set\n",
    "y_train_pred=lr.predict(x_train)"
   ]
  },
  {
   "cell_type": "code",
   "execution_count": 26,
   "id": "0381f23c",
   "metadata": {
    "scrolled": true
   },
   "outputs": [
    {
     "name": "stdout",
     "output_type": "stream",
     "text": [
      "RMSE (Train) -> 23.644317796158628\n"
     ]
    }
   ],
   "source": [
    "# Root Mean Square Error\n",
    "mse=mean_squared_error(y_train,y_train_pred)\n",
    "rmse=np.sqrt(mse)\n",
    "print(\"RMSE (Train) ->\", rmse)"
   ]
  },
  {
   "cell_type": "code",
   "execution_count": 27,
   "id": "860a3628",
   "metadata": {},
   "outputs": [
    {
     "name": "stdout",
     "output_type": "stream",
     "text": [
      "Mean Absolute Error (Train) -> 17.953361818992754\n"
     ]
    }
   ],
   "source": [
    "# mean_absolute_error\n",
    "mae=mean_absolute_error(y_train,y_train_pred)\n",
    "print(\"Mean Absolute Error (Train) ->\", mae)"
   ]
  },
  {
   "cell_type": "code",
   "execution_count": 25,
   "id": "3c6d2f47",
   "metadata": {
    "scrolled": true
   },
   "outputs": [
    {
     "name": "stderr",
     "output_type": "stream",
     "text": [
      "No artists with labels found to put in legend.  Note that artists whose label start with an underscore are ignored when legend() is called with no argument.\n"
     ]
    },
    {
     "data": {
      "image/png": "[encoded data removed]",
      "text/plain": [
       "<Figure size 640x480 with 1 Axes>"
      ]
     },
     "metadata": {},
     "output_type": "display_data"
    }
   ],
   "source": [
    "# actual observations\n",
    "plt.scatter(x_train,y_train) # single feature\n",
    "#plt.scatter(x_train.iloc[:,0],y_train) # multiple feaures\n",
    "\n",
    "# predicted values on TRAIN set\n",
    "plt.plot(x_train,y_train_pred) # single feature\n",
    "#plt.plot(x_train.iloc[:,0],y_train_pred,label=\"linear\") # multiple feaures..for plot take only one\n",
    "\n",
    "plt.title(\"Regression Line - Train set\")\n",
    "plt.xlabel(data.columns[0])\n",
    "plt.legend()\n",
    "plt.ylabel(\"Actual Vs Predicted Values (TRAIN SET) ->\")\n",
    "\n",
    "plt.show()"
   ]
  },
  {
   "cell_type": "markdown",
   "id": "06a07eb7",
   "metadata": {},
   "source": [
    "# Performance on TEST set"
   ]
  },
  {
   "cell_type": "code",
   "execution_count": 28,
   "id": "5ec32739",
   "metadata": {},
   "outputs": [],
   "source": [
    "# predict model on TEST set\n",
    "y_pred=lr.predict(x_test)"
   ]
  },
  {
   "cell_type": "code",
   "execution_count": 30,
   "id": "3894ddee",
   "metadata": {},
   "outputs": [
    {
     "name": "stdout",
     "output_type": "stream",
     "text": [
      "RMSE (Test)-> 26.249884363968278\n"
     ]
    }
   ],
   "source": [
    "# Root Mean Square Error\n",
    "mse=mean_squared_error(y_test,y_pred)\n",
    "rmse=np.sqrt(mse)\n",
    "print(\"RMSE (Test)->\", rmse)"
   ]
  },
  {
   "cell_type": "code",
   "execution_count": 31,
   "id": "d0b17ed5",
   "metadata": {},
   "outputs": [
    {
     "name": "stdout",
     "output_type": "stream",
     "text": [
      "Mean Absolute Error (Test)-> 19.7076201792483\n"
     ]
    }
   ],
   "source": [
    "# mean_absolute_error\n",
    "mae=mean_absolute_error(y_test,y_pred)\n",
    "print(\"Mean Absolute Error (Test)->\", mae)"
   ]
  },
  {
   "cell_type": "code",
   "execution_count": 32,
   "id": "66291ea9",
   "metadata": {
    "scrolled": true
   },
   "outputs": [
    {
     "name": "stderr",
     "output_type": "stream",
     "text": [
      "No artists with labels found to put in legend.  Note that artists whose label start with an underscore are ignored when legend() is called with no argument.\n"
     ]
    },
    {
     "data": {
      "image/png": "[encoded data removed]",
      "text/plain": [
       "<Figure size 640x480 with 1 Axes>"
      ]
     },
     "metadata": {},
     "output_type": "display_data"
    }
   ],
   "source": [
    "# actual observations\n",
    "plt.scatter(x_test,y_test) # single-feature\n",
    "#plt.scatter(x_test.iloc[:,0],y_test) # multiple features\n",
    "\n",
    "# predicted values\n",
    "plt.plot(x_test,y_pred) # single-feature\n",
    "#plt.plot(x_test.iloc[:,0],y_pred)  # multiple features\n",
    "\n",
    "\n",
    "plt.title(\"Regression Line\")\n",
    "plt.xlabel(data.columns[0])\n",
    "plt.ylabel(\"Actual Vs Predicted Values ->\")\n",
    "plt.legend()\n",
    "\n",
    "plt.show()"
   ]
  },
  {
   "cell_type": "markdown",
   "id": "091c19f4",
   "metadata": {},
   "source": [
    "# Predict a new data point"
   ]
  },
  {
   "cell_type": "code",
   "execution_count": 34,
   "id": "2ace9d1d",
   "metadata": {},
   "outputs": [
    {
     "name": "stdout",
     "output_type": "stream",
     "text": [
      "[156.63612426]\n"
     ]
    }
   ],
   "source": [
    "# mpg = 9.5\n",
    "print(lr.predict([[9.5]]))"
   ]
  },
  {
   "cell_type": "markdown",
   "id": "bb3944c7",
   "metadata": {},
   "source": [
    "# Test Goodness of fit "
   ]
  },
  {
   "cell_type": "markdown",
   "id": "aa44577c",
   "metadata": {},
   "source": [
    "### R squared i:e coeff of determination"
   ]
  },
  {
   "cell_type": "markdown",
   "id": "ee2747df",
   "metadata": {},
   "source": [
    "- is a measure of variability in output variable (predicted) explained by input variable (predictors) (i:e <b>it evaluates how closely y values scatter around your regression line</b>, the closer they are to your regression line the better)\n",
    "- takes a value between <b>0 (poor fit) and 1 (good fit)</b>\n",
    "- shouldnot be taken as sole criteria to judge that linear model is adequate\n",
    "- <b>comes with an inherent problem</b> – additional input variables will make the R-squared stay the same or increase (this is due to how the R-squared is calculated mathematically). Therefore, even if the additional input variables show no relationship with the output variables, the R-squared will increase"
   ]
  },
  {
   "cell_type": "code",
   "execution_count": 35,
   "id": "9869ba95",
   "metadata": {},
   "outputs": [
    {
     "name": "stdout",
     "output_type": "stream",
     "text": [
      "R squared i:e coeff of determination -> 0.5713789611206648\n"
     ]
    }
   ],
   "source": [
    "# R Squared value\n",
    "r_squared=r2_score(y_test,y_pred)\n",
    "print(\"R squared i:e coeff of determination ->\",r_squared)"
   ]
  },
  {
   "cell_type": "markdown",
   "id": "a61c1809",
   "metadata": {},
   "source": [
    "### Adjusted R squared\n",
    "- The <b> ADJUSTED R-squared </b> is a modified version of R-squared that adjusts for predictors that are not significant in a regression model.\n",
    "- The adjusted R-squared <b>looks at whether additional input variables are contributing to the model.</b>\n",
    "- An indicator of whether adding additional predictors improve a regression model or not\n",
    "- A <b>lower adjusted R-squared</b> indicates that the additional input variables are not adding value to the model.\n",
    "- A <b>higher adjusted R-squared</b> indicates that the additional input variables are adding value to the model."
   ]
  },
  {
   "cell_type": "code",
   "execution_count": 36,
   "id": "071a2d5b",
   "metadata": {},
   "outputs": [
    {
     "name": "stdout",
     "output_type": "stream",
     "text": [
      "n= 79 , p= 1\n",
      "Adjusted R squared -> 0.5658124541222319\n"
     ]
    }
   ],
   "source": [
    "# no. of samples\n",
    "n=len(y_test)\n",
    "# no. of parameters/independent variables\n",
    "p=x_test.shape[1]\n",
    "\n",
    "print(\"n=\",n,\", p=\",p)\n",
    "\n",
    "adj_rsquared=1-((1-r_squared)*(n-1)/(n-p-1))\n",
    "print(\"Adjusted R squared ->\",adj_rsquared)"
   ]
  },
  {
   "cell_type": "markdown",
   "id": "15f932d6",
   "metadata": {},
   "source": [
    "## Add additonal input features and see the effect on R-squared and Adj R squared"
   ]
  },
  {
   "cell_type": "markdown",
   "id": "a9a1b557",
   "metadata": {},
   "source": [
    "#### Additional feature"
   ]
  },
  {
   "cell_type": "code",
   "execution_count": 37,
   "id": "3f6dffe5",
   "metadata": {
    "scrolled": true
   },
   "outputs": [
    {
     "data": {
      "text/html": [
       "<div>\n",
       "<style scoped>\n",
       "    .dataframe tbody tr th:only-of-type {\n",
       "        vertical-align: middle;\n",
       "    }\n",
       "\n",
       "    .dataframe tbody tr th {\n",
       "        vertical-align: top;\n",
       "    }\n",
       "\n",
       "    .dataframe thead th {\n",
       "        text-align: right;\n",
       "    }\n",
       "</style>\n",
       "<table border=\"1\" class=\"dataframe\">\n",
       "  <thead>\n",
       "    <tr style=\"text-align: right;\">\n",
       "      <th></th>\n",
       "      <th>mpg</th>\n",
       "      <th>cylinders</th>\n",
       "      <th>displacement</th>\n",
       "      <th>horsepower</th>\n",
       "      <th>weight</th>\n",
       "      <th>acceleration</th>\n",
       "      <th>model year</th>\n",
       "      <th>origin</th>\n",
       "      <th>car name</th>\n",
       "    </tr>\n",
       "  </thead>\n",
       "  <tbody>\n",
       "    <tr>\n",
       "      <th>0</th>\n",
       "      <td>18.0</td>\n",
       "      <td>8</td>\n",
       "      <td>307.0</td>\n",
       "      <td>130.0</td>\n",
       "      <td>3504</td>\n",
       "      <td>12.0</td>\n",
       "      <td>70</td>\n",
       "      <td>1</td>\n",
       "      <td>chevrolet chevelle malibu</td>\n",
       "    </tr>\n",
       "    <tr>\n",
       "      <th>1</th>\n",
       "      <td>15.0</td>\n",
       "      <td>8</td>\n",
       "      <td>350.0</td>\n",
       "      <td>165.0</td>\n",
       "      <td>3693</td>\n",
       "      <td>11.5</td>\n",
       "      <td>70</td>\n",
       "      <td>1</td>\n",
       "      <td>buick skylark 320</td>\n",
       "    </tr>\n",
       "    <tr>\n",
       "      <th>2</th>\n",
       "      <td>18.0</td>\n",
       "      <td>8</td>\n",
       "      <td>318.0</td>\n",
       "      <td>150.0</td>\n",
       "      <td>3436</td>\n",
       "      <td>11.0</td>\n",
       "      <td>70</td>\n",
       "      <td>1</td>\n",
       "      <td>plymouth satellite</td>\n",
       "    </tr>\n",
       "    <tr>\n",
       "      <th>3</th>\n",
       "      <td>16.0</td>\n",
       "      <td>8</td>\n",
       "      <td>304.0</td>\n",
       "      <td>150.0</td>\n",
       "      <td>3433</td>\n",
       "      <td>12.0</td>\n",
       "      <td>70</td>\n",
       "      <td>1</td>\n",
       "      <td>amc rebel sst</td>\n",
       "    </tr>\n",
       "    <tr>\n",
       "      <th>4</th>\n",
       "      <td>17.0</td>\n",
       "      <td>8</td>\n",
       "      <td>302.0</td>\n",
       "      <td>140.0</td>\n",
       "      <td>3449</td>\n",
       "      <td>10.5</td>\n",
       "      <td>70</td>\n",
       "      <td>1</td>\n",
       "      <td>ford torino</td>\n",
       "    </tr>\n",
       "  </tbody>\n",
       "</table>\n",
       "</div>"
      ],
      "text/plain": [
       "    mpg  cylinders  displacement  horsepower  weight  acceleration  \\\n",
       "0  18.0          8         307.0       130.0    3504          12.0   \n",
       "1  15.0          8         350.0       165.0    3693          11.5   \n",
       "2  18.0          8         318.0       150.0    3436          11.0   \n",
       "3  16.0          8         304.0       150.0    3433          12.0   \n",
       "4  17.0          8         302.0       140.0    3449          10.5   \n",
       "\n",
       "   model year  origin                   car name  \n",
       "0          70       1  chevrolet chevelle malibu  \n",
       "1          70       1          buick skylark 320  \n",
       "2          70       1         plymouth satellite  \n",
       "3          70       1              amc rebel sst  \n",
       "4          70       1                ford torino  "
      ]
     },
     "execution_count": 37,
     "metadata": {},
     "output_type": "execute_result"
    }
   ],
   "source": [
    "data=pd.read_excel(\"/home/unni/Documents/ml/dataset/auto-mpg.xlsx\",na_values=[\"?\"])\n",
    "#print(data.iloc[:,[0,3]])\n",
    "data.head()"
   ]
  },
  {
   "cell_type": "code",
   "execution_count": 38,
   "id": "fbaaa4b1",
   "metadata": {
    "scrolled": true
   },
   "outputs": [
    {
     "name": "stdout",
     "output_type": "stream",
     "text": [
      "<class 'pandas.core.frame.DataFrame'>\n",
      "Index: 392 entries, 0 to 397\n",
      "Data columns (total 9 columns):\n",
      " #   Column        Non-Null Count  Dtype  \n",
      "---  ------        --------------  -----  \n",
      " 0   mpg           392 non-null    float64\n",
      " 1   cylinders     392 non-null    int64  \n",
      " 2   displacement  392 non-null    float64\n",
      " 3   horsepower    392 non-null    float64\n",
      " 4   weight        392 non-null    int64  \n",
      " 5   acceleration  392 non-null    float64\n",
      " 6   model year    392 non-null    int64  \n",
      " 7   origin        392 non-null    int64  \n",
      " 8   car name      392 non-null    object \n",
      "dtypes: float64(4), int64(4), object(1)\n",
      "memory usage: 30.6+ KB\n"
     ]
    }
   ],
   "source": [
    "data.dropna(axis='index',inplace=True)\n",
    "data.info()"
   ]
  },
  {
   "cell_type": "code",
   "execution_count": 40,
   "id": "20aa136f",
   "metadata": {},
   "outputs": [
    {
     "name": "stdout",
     "output_type": "stream",
     "text": [
      "(392, 2)\n",
      "    mpg  cylinders\n",
      "0  18.0          8\n",
      "1  15.0          8\n",
      "2  18.0          8\n",
      "3  16.0          8\n",
      "4  17.0          8\n",
      "5  15.0          8\n",
      "0    130.0\n",
      "1    165.0\n",
      "2    150.0\n",
      "3    150.0\n",
      "4    140.0\n",
      "5    198.0\n",
      "Name: horsepower, dtype: float64\n",
      "(392,)\n"
     ]
    }
   ],
   "source": [
    "# independent variable\n",
    "x=data.iloc[:,[0,1]] # mpg and cylinders\n",
    "\n",
    "print(x.shape)\n",
    "print(x[:6])\n",
    "\n",
    "# dependent variable / target variable\n",
    "y=data.iloc[:,3]\n",
    "print(y[:6])\n",
    "print(y.shape)"
   ]
  },
  {
   "cell_type": "code",
   "execution_count": 41,
   "id": "5cc257bd",
   "metadata": {},
   "outputs": [
    {
     "name": "stdout",
     "output_type": "stream",
     "text": [
      "x_train.count()= 313\n",
      "y_train.count()= 313\n",
      "x_test.count()= 79\n",
      "y_test.count()= 79\n"
     ]
    }
   ],
   "source": [
    "# divide into train and test set\n",
    "x_train,x_test,y_train,y_test=train_test_split(x,y,test_size=0.2,random_state=1)\n",
    "\n",
    "print(\"x_train.count()=\",len(x_train)) # x_train.count()\n",
    "print(\"y_train.count()=\",y_train.count())\n",
    "print(\"x_test.count()=\",len(x_test)) # x_test.count()\n",
    "print(\"y_test.count()=\",y_test.count())"
   ]
  },
  {
   "cell_type": "code",
   "execution_count": 42,
   "id": "f9077573",
   "metadata": {},
   "outputs": [
    {
     "name": "stdout",
     "output_type": "stream",
     "text": [
      "Interept -> 71.34224736966021\n",
      "coefficient -> [-1.64650681 12.97951641]\n"
     ]
    }
   ],
   "source": [
    "# initilize model\n",
    "lr=LinearRegression()\n",
    "\n",
    "lr.fit(x_train,y_train)\n",
    "\n",
    "# intercept\n",
    "print(\"Interept ->\",lr.intercept_)\n",
    "# coeff\n",
    "print(\"coefficient ->\",lr.coef_)"
   ]
  },
  {
   "cell_type": "code",
   "execution_count": 43,
   "id": "e0999239",
   "metadata": {},
   "outputs": [],
   "source": [
    "# predict model on test set\n",
    "y_pred=lr.predict(x_test)"
   ]
  },
  {
   "cell_type": "code",
   "execution_count": 44,
   "id": "fceb9d7e",
   "metadata": {},
   "outputs": [
    {
     "name": "stdout",
     "output_type": "stream",
     "text": [
      "RMSE -> 20.430163617083082\n"
     ]
    }
   ],
   "source": [
    "# Root Mean Square Error\n",
    "\n",
    "mse=mean_squared_error(y_test,y_pred)\n",
    "rmse=np.sqrt(mse)\n",
    "print(\"RMSE ->\", rmse)"
   ]
  },
  {
   "cell_type": "code",
   "execution_count": 45,
   "id": "9562aa27",
   "metadata": {
    "scrolled": true
   },
   "outputs": [
    {
     "name": "stdout",
     "output_type": "stream",
     "text": [
      "R squared i:e coeff of determination -> 0.7403655094103322\n"
     ]
    }
   ],
   "source": [
    "# R Squared\n",
    "r_squared=r2_score(y_test,y_pred)\n",
    "print(\"R squared i:e coeff of determination ->\",r_squared)"
   ]
  },
  {
   "cell_type": "code",
   "execution_count": 46,
   "id": "64c51e82",
   "metadata": {},
   "outputs": [
    {
     "name": "stdout",
     "output_type": "stream",
     "text": [
      "n= 79 , p= 2\n",
      "Adjusted R squared -> 0.7335330228158672\n"
     ]
    }
   ],
   "source": [
    "# Adjusted R Squared\n",
    "\n",
    "# no. of samples\n",
    "n=len(y_test)\n",
    "# no. of parameters/independent variables\n",
    "p=x_test.shape[1]\n",
    "\n",
    "print(\"n=\",n,\", p=\",p)\n",
    "\n",
    "adj_rsquared=1-((1-r_squared)*(n-1)/(n-p-1))\n",
    "print(\"Adjusted R squared ->\",adj_rsquared)"
   ]
  },
  {
   "cell_type": "markdown",
   "id": "31eb74de",
   "metadata": {},
   "source": [
    "### What do you understand from above ?? Is adding additional feature adding value ???"
   ]
  },
  {
   "cell_type": "markdown",
   "id": "68454ac8",
   "metadata": {},
   "source": [
    "# Hypothesis Tests\n",
    "As per <b>NULL Hypothesis</b> , Reduced model (y = b0) is sufficient and not y = b0 + b1x1 + b2x2...+bnxn  i:e Input features (x1,x2..xn) have no effect on Dependent/Target variable (y)...i:e b1 (beta 1), b2..bn= 0 ; Only b0 (beta 0, Intercept/bias) sufficient to explain model\n",
    "\n",
    "We reject the Null Hypothesis, if p-value (\"P>|t|\" column) <0.05. So variables whose p-value < 0.05 are significant. Reject other variables whose p-value>0.05"
   ]
  },
  {
   "cell_type": "code",
   "execution_count": 48,
   "id": "cafabb3c",
   "metadata": {
    "scrolled": false
   },
   "outputs": [
    {
     "name": "stdout",
     "output_type": "stream",
     "text": [
      "<class 'pandas.core.frame.DataFrame'>\n",
      "Index: 392 entries, 0 to 397\n",
      "Data columns (total 9 columns):\n",
      " #   Column        Non-Null Count  Dtype  \n",
      "---  ------        --------------  -----  \n",
      " 0   mpg           392 non-null    float64\n",
      " 1   cylinders     392 non-null    int64  \n",
      " 2   displacement  392 non-null    float64\n",
      " 3   horsepower    392 non-null    float64\n",
      " 4   weight        392 non-null    int64  \n",
      " 5   acceleration  392 non-null    float64\n",
      " 6   model year    392 non-null    int64  \n",
      " 7   origin        392 non-null    int64  \n",
      " 8   car name      392 non-null    object \n",
      "dtypes: float64(4), int64(4), object(1)\n",
      "memory usage: 30.6+ KB\n"
     ]
    }
   ],
   "source": [
    "data=pd.read_excel(\"/home/unni/Documents/ml/dataset/auto-mpg.xlsx\",na_values=[\"?\"])\n",
    "data.head()\n",
    "\n",
    "data.dropna(axis='index',inplace=True)\n",
    "data.info()"
   ]
  },
  {
   "cell_type": "code",
   "execution_count": 49,
   "id": "5b86349c",
   "metadata": {
    "scrolled": true
   },
   "outputs": [
    {
     "name": "stdout",
     "output_type": "stream",
     "text": [
      "(392, 7)\n",
      "    mpg  cylinders  displacement  weight  acceleration  model year  origin\n",
      "0  18.0          8         307.0    3504          12.0          70       1\n",
      "1  15.0          8         350.0    3693          11.5          70       1\n",
      "2  18.0          8         318.0    3436          11.0          70       1\n",
      "3  16.0          8         304.0    3433          12.0          70       1\n",
      "4  17.0          8         302.0    3449          10.5          70       1\n",
      "5  15.0          8         429.0    4341          10.0          70       1\n",
      "0    130.0\n",
      "1    165.0\n",
      "2    150.0\n",
      "3    150.0\n",
      "4    140.0\n",
      "5    198.0\n",
      "Name: horsepower, dtype: float64\n",
      "(392,)\n"
     ]
    }
   ],
   "source": [
    "# independent variable..take all\n",
    "x=data.iloc[:,[0,1,2,4,5,6,7]]\n",
    "\n",
    "print(x.shape)\n",
    "print(x[:6])\n",
    "\n",
    "# dependent variable / target variable\n",
    "y=data.iloc[:,3]\n",
    "print(y[:6])\n",
    "print(y.shape)"
   ]
  },
  {
   "cell_type": "code",
   "execution_count": 50,
   "id": "f9ed6bb3",
   "metadata": {},
   "outputs": [
    {
     "name": "stdout",
     "output_type": "stream",
     "text": [
      "x_train.count()= 313\n",
      "y_train.count()= 313\n",
      "x_test.count()= 79\n",
      "y_test.count()= 79\n"
     ]
    }
   ],
   "source": [
    "# divide into train and test set\n",
    "x_train,x_test,y_train,y_test=train_test_split(x,y,test_size=0.2,random_state=1)\n",
    "\n",
    "print(\"x_train.count()=\",len(x_train)) # x_train.count()\n",
    "print(\"y_train.count()=\",y_train.count())\n",
    "print(\"x_test.count()=\",len(x_test)) # x_test.count()\n",
    "print(\"y_test.count()=\",y_test.count())"
   ]
  },
  {
   "cell_type": "code",
   "execution_count": 51,
   "id": "1f6e55cf",
   "metadata": {
    "scrolled": true
   },
   "outputs": [
    {
     "name": "stdout",
     "output_type": "stream",
     "text": [
      "                            OLS Regression Results                            \n",
      "==============================================================================\n",
      "Dep. Variable:             horsepower   R-squared:                       0.896\n",
      "Model:                            OLS   Adj. R-squared:                  0.893\n",
      "Method:                 Least Squares   F-statistic:                     374.3\n",
      "Date:                Thu, 27 Jul 2023   Prob (F-statistic):          1.26e-145\n",
      "Time:                        06:31:26   Log-Likelihood:                -1227.7\n",
      "No. Observations:                 313   AIC:                             2471.\n",
      "Df Residuals:                     305   BIC:                             2501.\n",
      "Df Model:                           7                                         \n",
      "Covariance Type:            nonrobust                                         \n",
      "================================================================================\n",
      "                   coef    std err          t      P>|t|      [0.025      0.975]\n",
      "--------------------------------------------------------------------------------\n",
      "const          146.4372     17.589      8.326      0.000     111.826     181.048\n",
      "mpg             -0.0935      0.214     -0.436      0.663      -0.515       0.328\n",
      "cylinders       -1.9655      1.372     -1.432      0.153      -4.666       0.735\n",
      "displacement     0.0973      0.032      3.018      0.003       0.034       0.161\n",
      "weight           0.0260      0.003      8.793      0.000       0.020       0.032\n",
      "acceleration    -4.5207      0.326    -13.871      0.000      -5.162      -3.879\n",
      "model year      -0.8136      0.261     -3.120      0.002      -1.327      -0.300\n",
      "origin           4.1590      1.155      3.601      0.000       1.886       6.432\n",
      "==============================================================================\n",
      "Omnibus:                       66.290   Durbin-Watson:                   2.001\n",
      "Prob(Omnibus):                  0.000   Jarque-Bera (JB):              158.912\n",
      "Skew:                           1.019   Prob(JB):                     3.11e-35\n",
      "Kurtosis:                       5.834   Cond. No.                     7.76e+04\n",
      "==============================================================================\n",
      "\n",
      "Notes:\n",
      "[1] Standard Errors assume that the covariance matrix of the errors is correctly specified.\n",
      "[2] The condition number is large, 7.76e+04. This might indicate that there are\n",
      "strong multicollinearity or other numerical problems.\n"
     ]
    }
   ],
   "source": [
    "x_train_lm=sm.add_constant(x_train)\n",
    "\n",
    "lm=sm.OLS(y_train,x_train_lm).fit()\n",
    "\n",
    "print(lm.summary())"
   ]
  },
  {
   "cell_type": "markdown",
   "id": "698a8b3c",
   "metadata": {},
   "source": [
    "# References"
   ]
  },
  {
   "cell_type": "markdown",
   "id": "237b043b",
   "metadata": {},
   "source": [
    "Dataset - https://archive.ics.uci.edu/dataset/9/auto+mpg\n",
    "https://realpython.com/linear-regression-in-python/ \n",
    "https://medium.com/@hackdeploy/python-linear-regression-analysis-7b3cfb01a748\n",
    "https://realpython.com/linear-regression-in-python/\n",
    "https://towardsdatascience.com/how-to-simplify-hypothesis-testing-for-linear-regression-in-python-8b43f6917c86\n",
    "https://medium.com/nerd-for-tech/hypothesis-testing-on-linear-regression-c2a1799ba964"
   ]
  }
 ],
 "metadata": {
  "kernelspec": {
   "display_name": "Python 3 (ipykernel)",
   "language": "python",
   "name": "python3"
  },
  "language_info": {
   "codemirror_mode": {
    "name": "ipython",
    "version": 3
   },
   "file_extension": ".py",
   "mimetype": "text/x-python",
   "name": "python",
   "nbconvert_exporter": "python",
   "pygments_lexer": "ipython3",
   "version": "3.8.10"
  }
 },
 "nbformat": 4,
 "nbformat_minor": 5
}
